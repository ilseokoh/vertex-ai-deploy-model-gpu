{
  "cells": [
    {
      "cell_type": "code",
      "execution_count": 11,
      "id": "Cs26SZJUHOQh4nbnbgenBQJJ",
      "metadata": {
        "executionInfo": {
          "elapsed": 261,
          "status": "ok",
          "timestamp": 1718258419220,
          "user": {
            "displayName": "",
            "userId": ""
          },
          "user_tz": -540
        },
        "id": "Cs26SZJUHOQh4nbnbgenBQJJ",
        "tags": []
      },
      "outputs": [],
      "source": [
        "from google.cloud import aiplatform\n",
        "import time"
      ]
    },
    {
      "cell_type": "code",
      "execution_count": 12,
      "id": "kWePtx0Xg5no",
      "metadata": {
        "executionInfo": {
          "elapsed": 247,
          "status": "ok",
          "timestamp": 1718258425201,
          "user": {
            "displayName": "",
            "userId": ""
          },
          "user_tz": -540
        },
        "id": "kWePtx0Xg5no"
      },
      "outputs": [],
      "source": [
        "PROJECT_ID='<project-id>'\n",
        "LOCATION='asia-northeast3'\n",
        "ENDPOINT_ID='<endpoint-id>' # 8768020291327632468\n",
        "MODEL_NAME=f'projects/{PROJECT_ID}/locations/{LOCATION}/models/<model-id>' # google_gemma-2b-1718176207297\n",
        "DEPLOYED_MODEL_DISPLAY_NAME='<display-name>'\n",
        "API_ENDPOINT=f'{LOCATION}-aiplatform.googleapis.com'\n",
        "TIMEOUT=7200"
      ]
    },
    {
      "cell_type": "code",
      "execution_count": 13,
      "id": "RB5wuXrygsyB",
      "metadata": {
        "executionInfo": {
          "elapsed": 1,
          "status": "ok",
          "timestamp": 1718258426271,
          "user": {
            "displayName": "",
            "userId": ""
          },
          "user_tz": -540
        },
        "id": "RB5wuXrygsyB"
      },
      "outputs": [],
      "source": [
        "def deploy_model_sample(\n",
        "    project: str,\n",
        "    endpoint_id: str,\n",
        "    model_name: str,\n",
        "    deployed_model_display_name: str,\n",
        "    location: str = \"us-central1\",\n",
        "    api_endpoint: str = \"us-central1-aiplatform.googleapis.com\",\n",
        "    timeout: int = 7200,\n",
        "):\n",
        "    # The AI Platform services require regional API endpoints.\n",
        "    client_options = {\"api_endpoint\": api_endpoint}\n",
        "    # Initialize client that will be used to create and send requests.\n",
        "    # This client only needs to be created once, and can be reused for multiple requests.\n",
        "    client = aiplatform.gapic.EndpointServiceClient(client_options=client_options)\n",
        "    deployed_model = {\n",
        "        # format: 'projects/{project}/locations/{location}/models/{model}'\n",
        "        \"model\": model_name,\n",
        "        \"display_name\": deployed_model_display_name,\n",
        "        # AutoML Vision models require `automatic_resources` field\n",
        "        # Other model types may require `dedicated_resources` field instead\n",
        "        \"dedicated_resources\": {\n",
        "            \"min_replica_count\": 1,\n",
        "            \"max_replica_count\": 1,\n",
        "            \"machine_spec\": {\n",
        "                \"machine_type\": \"a2-highgpu-1g\",\n",
        "                \"accelerator_type\": \"NVIDIA_TESLA_A100\",\n",
        "                \"accelerator_count\": 1,\n",
        "            },\n",
        "        },\n",
        "    }\n",
        "    # key '0' assigns traffic for the newly deployed model\n",
        "    # Traffic percentage values must add up to 100\n",
        "    # Leave dictionary empty if endpoint should not accept any traffic\n",
        "    traffic_split = {\"0\": 100}\n",
        "    endpoint = client.endpoint_path(\n",
        "        project=project, location=location, endpoint=endpoint_id\n",
        "    )\n",
        "    response = client.deploy_model(\n",
        "        endpoint=endpoint, deployed_model=deployed_model, traffic_split=traffic_split\n",
        "    )\n",
        "    print(\"Long running operation:\", response.operation.name)\n",
        "    deploy_model_response = response.result(timeout=timeout)\n",
        "    print(\"deploy_model_response:\", deploy_model_response)"
      ]
    },
    {
      "cell_type": "code",
      "execution_count": 14,
      "id": "GfsVDc_di4hp",
      "metadata": {
        "colab": {
          "base_uri": "https://localhost:8080/"
        },
        "executionInfo": {
          "elapsed": 1359886,
          "status": "ok",
          "timestamp": 1718259791729,
          "user": {
            "displayName": "",
            "userId": ""
          },
          "user_tz": -540
        },
        "id": "GfsVDc_di4hp",
        "outputId": "28d82f67-83c7-4166-c29c-c982a0663d54"
      },
      "outputs": [
        {
          "name": "stdout",
          "output_type": "stream",
          "text": [
            "1718258428.2620625\n",
            "Long running operation: projects/579186738071/locations/asia-northeast3/endpoints/8768020291327623168/operations/2913069196373917696\n",
            "deploy_model_response: deployed_model {\n",
            "  id: \"9159446430815879168\"\n",
            "}\n",
            "\n",
            "1718259787.9201727\n",
            "--- 1359.6588623523712 seconds ---\n",
            "Success\n"
          ]
        }
      ],
      "source": [
        "try:\n",
        "\n",
        "  start_time = time.time()\n",
        "  print(start_time)\n",
        "\n",
        "  deploy_model_sample(\n",
        "    project=PROJECT_ID,\n",
        "    endpoint_id=ENDPOINT_ID,\n",
        "    model_name=MODEL_NAME,\n",
        "    deployed_model_display_name=DEPLOYED_MODEL_DISPLAY_NAME,\n",
        "    location=LOCATION,\n",
        "    api_endpoint=API_ENDPOINT,\n",
        "    timeout=TIMEOUT,\n",
        "  )\n",
        "\n",
        "  end_time = time.time()\n",
        "  print(end_time)\n",
        "  print(\"--- %s seconds ---\" % (time.time() - start_time))\n",
        "\n",
        "except Exception as ex:\n",
        "  print(f\"Error: {ex}\")\n",
        "else:\n",
        "  print(\"Success\")\n"
      ]
    },
    {
      "cell_type": "code",
      "execution_count": 8,
      "id": "wBhP_LJe0qiQ",
      "metadata": {
        "colab": {
          "base_uri": "https://localhost:8080/"
        },
        "executionInfo": {
          "elapsed": 2553,
          "status": "ok",
          "timestamp": 1718252784859,
          "user": {
            "displayName": "",
            "userId": ""
          },
          "user_tz": -540
        },
        "id": "wBhP_LJe0qiQ",
        "outputId": "a0659615-1709-4e19-fcf1-ad8e2ec4f5ae"
      },
      "outputs": [
        {
          "name": "stdout",
          "output_type": "stream",
          "text": [
            "Using endpoint [https://asia-northeast3-aiplatform.googleapis.com/]\n",
            "createTime: '2024-06-12T07:11:00.723525Z'\n",
            "deployedModels:\n",
            "- createTime: '2024-06-13T03:02:26.955618Z'\n",
            "  dedicatedResources:\n",
            "    machineSpec:\n",
            "      acceleratorCount: 1\n",
            "      acceleratorType: NVIDIA_TESLA_A100\n",
            "      machineType: a2-highgpu-1g\n",
            "    maxReplicaCount: 1\n",
            "    minReplicaCount: 1\n",
            "  displayName: google_gemma-2b-kevin\n",
            "  id: '3954974111435849728'\n",
            "  model: projects/579186738071/locations/asia-northeast3/models/google_gemma-2b-1718176207297\n",
            "  modelVersionId: '1'\n",
            "displayName: google_gemma-2b-mg-one-click-deploy\n",
            "etag: AMEw9yOW23k9pbD47XJfPa1bDXvXONIowddbrhsv1iPrHJV3KR1tlYKgwAlqnEDe9i26\n",
            "labels:\n",
            "  mg-one-click-deploy: publishers-google-models-335\n",
            "  versioned-mg-one-click-deploy: publishers-google-models-335-005\n",
            "name: projects/579186738071/locations/asia-northeast3/endpoints/8768020291327623168\n",
            "trafficSplit:\n",
            "  '3954974111435849728': 100\n",
            "updateTime: '2024-06-13T03:25:07.271479Z'\n"
          ]
        }
      ],
      "source": [
        "!gcloud ai endpoints describe $ENDPOINT_ID --project=$PROJECT_ID --region=$LOCATION"
      ]
    },
    {
      "cell_type": "code",
      "execution_count": null,
      "id": "60rvKlGK2AV_",
      "metadata": {
        "id": "60rvKlGK2AV_"
      },
      "outputs": [],
      "source": []
    }
  ],
  "metadata": {
    "colab": {
      "name": "admin (Jun 13, 2024, 11:52:08 AM)",
      "provenance": []
    },
    "kernelspec": {
      "display_name": "Python 3",
      "language": "python",
      "name": "python3"
    },
    "language_info": {
      "codemirror_mode": {
        "name": "ipython",
        "version": 3
      },
      "file_extension": ".py",
      "mimetype": "text/x-python",
      "name": "python",
      "nbconvert_exporter": "python",
      "pygments_lexer": "ipython3",
      "version": "3.10.10"
    }
  },
  "nbformat": 4,
  "nbformat_minor": 5
}
